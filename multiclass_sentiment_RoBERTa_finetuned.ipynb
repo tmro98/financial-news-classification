{
 "cells": [
  {
   "cell_type": "code",
   "execution_count": 1,
   "id": "d1755fe4-e97e-4a6b-aa64-8c02c835d79e",
   "metadata": {},
   "outputs": [],
   "source": [
    "%%capture\n",
    "!pip install transformers transformers[torch]"
   ]
  },
  {
   "cell_type": "code",
   "execution_count": 1,
   "id": "91f45a9f-01eb-4843-84c6-58f8e2c302fe",
   "metadata": {},
   "outputs": [],
   "source": [
    "import numpy as np\n",
    "import pandas as pd\n",
    "import matplotlib.pyplot as plt\n",
    "import seaborn as sns\n",
    "\n",
    "import torch\n",
    "from transformers import RobertaTokenizer, RobertaForSequenceClassification\n",
    "from transformers import DataCollatorWithPadding\n",
    "from transformers import Trainer, TrainingArguments\n",
    "from transformers import pipeline\n",
    "\n",
    "from sklearn.model_selection import train_test_split\n",
    "from sklearn.metrics import accuracy_score, precision_score, recall_score, f1_score\n",
    "from sklearn.metrics import classification_report\n",
    "from sklearn.metrics import confusion_matrix"
   ]
  },
  {
   "cell_type": "code",
   "execution_count": 2,
   "id": "034a59b3-64b5-43ae-a909-d173c027ba1f",
   "metadata": {},
   "outputs": [
    {
     "data": {
      "text/plain": [
       "(device(type='cuda'), 'NVIDIA GeForce RTX 3090')"
      ]
     },
     "execution_count": 2,
     "metadata": {},
     "output_type": "execute_result"
    }
   ],
   "source": [
    "device = torch.device('cuda' if torch.cuda.is_available() else 'cpu')\n",
    "device, torch.cuda.get_device_name(0)"
   ]
  },
  {
   "cell_type": "code",
   "execution_count": 3,
   "id": "cc02517b-dac7-4769-93a3-0581913cd816",
   "metadata": {},
   "outputs": [
    {
     "data": {
      "text/plain": [
       "0    2287\n",
       "1    2544\n",
       "2    2816\n",
       "Name: classification, dtype: int64"
      ]
     },
     "execution_count": 3,
     "metadata": {},
     "output_type": "execute_result"
    }
   ],
   "source": [
    "df = pd.read_json(\"../_data/multiclass_sentiment.json\")\n",
    "df[\"title+text\"] = df[\"title\"] + \" \" + df[\"text\"]\n",
    "\n",
    "texts = df[\"title+text\"].tolist()\n",
    "labels = df[\"classification\"].tolist()\n",
    "\n",
    "df[\"classification\"].value_counts().sort_index()"
   ]
  },
  {
   "cell_type": "code",
   "execution_count": 4,
   "id": "57666d3d-d277-406b-bb5d-39566de327a2",
   "metadata": {},
   "outputs": [
    {
     "data": {
      "text/plain": [
       "(6117, 1530)"
      ]
     },
     "execution_count": 4,
     "metadata": {},
     "output_type": "execute_result"
    }
   ],
   "source": [
    "train_texts, test_texts, train_labels, test_labels = train_test_split(\n",
    "    texts, labels, stratify=labels, test_size=0.2\n",
    ")\n",
    "\n",
    "len(train_texts),len(test_texts)"
   ]
  },
  {
   "cell_type": "code",
   "execution_count": 5,
   "id": "390716dc-dd0d-45b1-ac35-78b08922567b",
   "metadata": {},
   "outputs": [],
   "source": [
    "model_name = 'roberta-large'\n",
    "\n",
    "tokenizer = RobertaTokenizer.from_pretrained(model_name)\n",
    "data_collator = DataCollatorWithPadding(tokenizer=tokenizer)"
   ]
  },
  {
   "cell_type": "code",
   "execution_count": 6,
   "id": "f270edef-5a28-40e9-bea2-9d80cdc60bd8",
   "metadata": {},
   "outputs": [
    {
     "name": "stderr",
     "output_type": "stream",
     "text": [
      "Some weights of the model checkpoint at roberta-large were not used when initializing RobertaForSequenceClassification: ['lm_head.layer_norm.bias', 'lm_head.bias', 'lm_head.dense.bias', 'lm_head.dense.weight', 'lm_head.layer_norm.weight']\n",
      "- This IS expected if you are initializing RobertaForSequenceClassification from the checkpoint of a model trained on another task or with another architecture (e.g. initializing a BertForSequenceClassification model from a BertForPreTraining model).\n",
      "- This IS NOT expected if you are initializing RobertaForSequenceClassification from the checkpoint of a model that you expect to be exactly identical (initializing a BertForSequenceClassification model from a BertForSequenceClassification model).\n",
      "Some weights of RobertaForSequenceClassification were not initialized from the model checkpoint at roberta-large and are newly initialized: ['classifier.out_proj.bias', 'classifier.dense.bias', 'classifier.out_proj.weight', 'classifier.dense.weight']\n",
      "You should probably TRAIN this model on a down-stream task to be able to use it for predictions and inference.\n"
     ]
    }
   ],
   "source": [
    "id2label = {0: \"NEGATIVE\", 1: \"NEUTRAL\", 2:\"POSITIVE\"}\n",
    "label2id = {\"NEGATIVE\": 0, \"NEUTRAL\": 1, \"POSITIVE\":2}\n",
    "\n",
    "model = RobertaForSequenceClassification.from_pretrained(\n",
    "    model_name, \n",
    "    num_labels=3,\n",
    "    id2label=id2label, \n",
    "    label2id=label2id\n",
    ")"
   ]
  },
  {
   "cell_type": "code",
   "execution_count": 7,
   "id": "972148a4-6874-4d6a-85af-920c993a538d",
   "metadata": {},
   "outputs": [],
   "source": [
    "train_encodings = tokenizer(train_texts, truncation=True, max_length=512)"
   ]
  },
  {
   "cell_type": "code",
   "execution_count": 8,
   "id": "753bcafe-21aa-4c00-ab73-a870a470672b",
   "metadata": {},
   "outputs": [],
   "source": [
    "class SentimentDataset(torch.utils.data.Dataset):\n",
    "    def __init__(self, encodings, labels):\n",
    "        self.encodings = encodings\n",
    "        self.labels = labels\n",
    "\n",
    "    def __getitem__(self, idx):\n",
    "        item = {key: torch.tensor(val[idx]) for key, val in self.encodings.items()}\n",
    "        item['labels'] = torch.tensor(self.labels[idx])\n",
    "        return item\n",
    "\n",
    "    def __len__(self):\n",
    "        return len(self.labels)"
   ]
  },
  {
   "cell_type": "code",
   "execution_count": 9,
   "id": "a59ee1ad-a68b-40e3-b611-ed063844dbaf",
   "metadata": {},
   "outputs": [],
   "source": [
    "train_dataset = SentimentDataset(train_encodings, train_labels)"
   ]
  },
  {
   "cell_type": "code",
   "execution_count": 10,
   "id": "09c093f9-2b26-4ceb-9545-7c54a0f83e66",
   "metadata": {},
   "outputs": [],
   "source": [
    "training_args = TrainingArguments(\n",
    "    output_dir='./results',\n",
    "    save_strategy=\"no\",\n",
    "    optim=\"adamw_torch\",\n",
    "    learning_rate=2e-5,\n",
    "    num_train_epochs=4, \n",
    "    group_by_length=True,\n",
    "    do_eval=False,\n",
    "    evaluation_strategy=\"no\",\n",
    "    per_device_train_batch_size=8, \n",
    "    per_device_eval_batch_size=8,  \n",
    "    warmup_steps=100,               \n",
    "    weight_decay=0.01,              \n",
    "    logging_strategy=\"no\",\n",
    "    load_best_model_at_end=True\n",
    ")\n",
    "\n",
    "trainer = Trainer(\n",
    "    model=model,                        \n",
    "    args=training_args,                 \n",
    "    train_dataset=train_dataset,        \n",
    "    tokenizer=tokenizer,\n",
    "    data_collator=data_collator,\n",
    ")"
   ]
  },
  {
   "cell_type": "code",
   "execution_count": 11,
   "id": "9e22094c-9d70-4383-bf7e-d92dba81f79c",
   "metadata": {},
   "outputs": [
    {
     "data": {
      "text/html": [
       "\n",
       "    <div>\n",
       "      \n",
       "      <progress value='3060' max='3060' style='width:300px; height:20px; vertical-align: middle;'></progress>\n",
       "      [3060/3060 23:32, Epoch 4/4]\n",
       "    </div>\n",
       "    <table border=\"1\" class=\"dataframe\">\n",
       "  <thead>\n",
       " <tr style=\"text-align: left;\">\n",
       "      <th>Step</th>\n",
       "      <th>Training Loss</th>\n",
       "    </tr>\n",
       "  </thead>\n",
       "  <tbody>\n",
       "  </tbody>\n",
       "</table><p>"
      ],
      "text/plain": [
       "<IPython.core.display.HTML object>"
      ]
     },
     "metadata": {},
     "output_type": "display_data"
    },
    {
     "data": {
      "text/plain": [
       "TrainOutput(global_step=3060, training_loss=0.4878290712443832, metrics={'train_runtime': 1413.2032, 'train_samples_per_second': 17.314, 'train_steps_per_second': 2.165, 'total_flos': 1.6551841324800624e+16, 'train_loss': 0.4878290712443832, 'epoch': 4.0})"
      ]
     },
     "execution_count": 11,
     "metadata": {},
     "output_type": "execute_result"
    }
   ],
   "source": [
    "trainer.train()"
   ]
  },
  {
   "cell_type": "code",
   "execution_count": 12,
   "id": "ec69cf26-8755-433e-b5ac-055a1a377434",
   "metadata": {},
   "outputs": [
    {
     "data": {
      "text/html": [],
      "text/plain": [
       "<IPython.core.display.HTML object>"
      ]
     },
     "metadata": {},
     "output_type": "display_data"
    },
    {
     "data": {
      "text/plain": [
       "0.7542483660130719"
      ]
     },
     "execution_count": 12,
     "metadata": {},
     "output_type": "execute_result"
    }
   ],
   "source": [
    "test_encodings = tokenizer(test_texts, truncation=True, padding=True, max_length=512)\n",
    "test_dataset = SentimentDataset(test_encodings, test_labels)\n",
    "\n",
    "raw_output = trainer.predict(test_dataset)\n",
    "y_preds = np.argmax(raw_output.predictions, axis=-1)\n",
    "accuracy_score(y_true=test_labels, y_pred=y_preds)"
   ]
  },
  {
   "cell_type": "code",
   "execution_count": 13,
   "id": "9001896b-ce4d-4c64-9041-997a3c49dbd0",
   "metadata": {},
   "outputs": [
    {
     "name": "stdout",
     "output_type": "stream",
     "text": [
      "Classification Report:\n",
      "               precision    recall  f1-score   support\n",
      "\n",
      "           0       0.77      0.80      0.79       458\n",
      "           1       0.67      0.66      0.67       509\n",
      "           2       0.82      0.80      0.81       563\n",
      "\n",
      "    accuracy                           0.75      1530\n",
      "   macro avg       0.75      0.75      0.75      1530\n",
      "weighted avg       0.75      0.75      0.75      1530\n",
      "\n"
     ]
    }
   ],
   "source": [
    "report = classification_report(test_labels, y_preds)\n",
    "print(\"Classification Report:\\n\", report)"
   ]
  },
  {
   "cell_type": "code",
   "execution_count": 14,
   "id": "9254c3b1-ab6c-430e-8884-f1d47f27defe",
   "metadata": {},
   "outputs": [
    {
     "data": {
      "image/png": "[encoded data removed]",
      "text/plain": [
       "<Figure size 640x480 with 2 Axes>"
      ]
     },
     "metadata": {},
     "output_type": "display_data"
    }
   ],
   "source": [
    "cm = confusion_matrix(test_labels, y_preds)\n",
    "xlabels = ['Class 0', 'Class 1', \"Class 2\"]\n",
    "sns.heatmap(cm, annot=True, fmt=\"d\", cmap=\"Blues\", xticklabels=xlabels, yticklabels=xlabels)\n",
    "plt.xlabel(\"Predicted Labels\")\n",
    "plt.ylabel(\"True Labels\")\n",
    "plt.show()"
   ]
  },
  {
   "cell_type": "code",
   "execution_count": 15,
   "id": "22c5ee0f-6b0e-46eb-9496-dfce5c3b875f",
   "metadata": {},
   "outputs": [],
   "source": [
    "trainer.save_model('./results/roberta_large_sentiment')"
   ]
  },
  {
   "cell_type": "code",
   "execution_count": 17,
   "id": "3c01e501-c0d0-4251-b268-770b75d67d72",
   "metadata": {},
   "outputs": [
    {
     "data": {
      "text/html": [],
      "text/plain": [
       "<IPython.core.display.HTML object>"
      ]
     },
     "metadata": {},
     "output_type": "display_data"
    },
    {
     "data": {
      "text/plain": [
       "0.7542483660130719"
      ]
     },
     "execution_count": 17,
     "metadata": {},
     "output_type": "execute_result"
    }
   ],
   "source": [
    "model_path = './results/roberta_large_sentiment'\n",
    "model = RobertaForSequenceClassification.from_pretrained(model_path, num_labels=3)\n",
    "test_trainer = Trainer(model)\n",
    "raw_predictions = test_trainer.predict(test_dataset)\n",
    "y_preds = np.argmax(raw_predictions.predictions, axis=-1)\n",
    "accuracy_score(y_true=test_labels, y_pred=y_preds)"
   ]
  },
  {
   "cell_type": "code",
   "execution_count": 19,
   "id": "87b17764-62da-48c6-8ad6-99a32741bad3",
   "metadata": {},
   "outputs": [
    {
     "name": "stderr",
     "output_type": "stream",
     "text": [
      "Xformers is not installed correctly. If you want to use memory_efficient_attention to accelerate training use the following command to install Xformers\n",
      "pip install xformers.\n"
     ]
    },
    {
     "data": {
      "text/plain": [
       "[{'label': 'POSITIVE', 'score': 0.9966276288032532},\n",
       " {'label': 'NEGATIVE', 'score': 0.9954739212989807}]"
      ]
     },
     "execution_count": 19,
     "metadata": {},
     "output_type": "execute_result"
    }
   ],
   "source": [
    "texts = [\n",
    "        \"\"\"US economic growth was stronger than previously reported at the start of the year.\"\"\",\n",
    "        \"\"\"US economic growth was weaker than expected at the start of the year.\"\"\"\n",
    "        ]\n",
    "\n",
    "classifier = pipeline(\"text-classification\", model='./results/roberta_large_sentiment', device=0)\n",
    "classifier(texts)"
   ]
  }
 ],
 "metadata": {
  "kernelspec": {
   "display_name": "Python 3 (ipykernel)",
   "language": "python",
   "name": "python3"
  },
  "language_info": {
   "codemirror_mode": {
    "name": "ipython",
    "version": 3
   },
   "file_extension": ".py",
   "mimetype": "text/x-python",
   "name": "python",
   "nbconvert_exporter": "python",
   "pygments_lexer": "ipython3",
   "version": "3.10.6"
  }
 },
 "nbformat": 4,
 "nbformat_minor": 5
}
